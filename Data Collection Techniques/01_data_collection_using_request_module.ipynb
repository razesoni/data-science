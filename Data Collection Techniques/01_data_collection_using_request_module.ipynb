{
 "cells": [
  {
   "cell_type": "code",
   "execution_count": 1,
   "id": "63b4cc4f-0f79-4a58-825d-c9ad9d046774",
   "metadata": {},
   "outputs": [],
   "source": [
    "import requests"
   ]
  },
  {
   "cell_type": "code",
   "execution_count": 5,
   "id": "c990af44-29fa-47ba-b474-d4e243f3206f",
   "metadata": {},
   "outputs": [
    {
     "name": "stdout",
     "output_type": "stream",
     "text": [
      "Downloaded page 1 successfully\n",
      "Downloaded page 2 successfully\n",
      "Downloaded page 3 successfully\n",
      "Downloaded page 4 successfully\n",
      "Downloaded page 5 successfully\n",
      "Downloaded page 6 successfully\n",
      "Downloaded page 7 successfully\n",
      "Downloaded page 8 successfully\n",
      "Downloaded page 9 successfully\n",
      "Downloaded page 10 successfully\n",
      "Downloaded page 11 successfully\n",
      "Downloaded page 12 successfully\n",
      "Downloaded page 13 successfully\n",
      "Downloaded page 14 successfully\n",
      "Downloaded page 15 successfully\n",
      "Downloaded page 16 successfully\n",
      "Downloaded page 17 successfully\n",
      "Downloaded page 18 successfully\n",
      "Downloaded page 19 successfully\n",
      "Downloaded page 20 successfully\n",
      "Downloaded page 21 successfully\n",
      "Downloaded page 22 successfully\n",
      "Downloaded page 23 successfully\n",
      "Downloaded page 24 successfully\n",
      "Downloaded page 25 successfully\n",
      "Downloaded page 26 successfully\n",
      "Downloaded page 27 successfully\n",
      "Downloaded page 28 successfully\n",
      "Downloaded page 29 successfully\n",
      "Downloaded page 30 successfully\n",
      "Downloaded page 31 successfully\n",
      "Downloaded page 32 successfully\n",
      "Downloaded page 33 successfully\n",
      "Downloaded page 34 successfully\n",
      "Downloaded page 35 successfully\n",
      "Downloaded page 36 successfully\n",
      "Downloaded page 37 successfully\n",
      "Downloaded page 38 successfully\n",
      "Downloaded page 39 successfully\n",
      "Downloaded page 40 successfully\n",
      "Downloaded page 41 successfully\n",
      "Downloaded page 42 successfully\n",
      "Downloaded page 43 successfully\n",
      "Downloaded page 44 successfully\n",
      "Downloaded page 45 successfully\n",
      "Downloaded page 46 successfully\n",
      "Downloaded page 47 successfully\n",
      "Downloaded page 48 successfully\n",
      "Downloaded page 49 successfully\n",
      "Downloaded page 50 successfully\n"
     ]
    }
   ],
   "source": [
    "for  i in range(1, 51):\n",
    "    a = requests.get(f\"https://books.toscrape.com/catalogue/page-{i}.html\")\n",
    "    with open(f\"htmls/page{i}.html\", \"w\", encoding=\"utf-8\") as f:\n",
    "        f.write(a.text)\n",
    "        print(f\"Downloaded page {i} successfully\")"
   ]
  },
  {
   "cell_type": "code",
   "execution_count": null,
   "id": "aae16ef9-6a30-4dd5-a13e-88d547a9c411",
   "metadata": {},
   "outputs": [],
   "source": []
  }
 ],
 "metadata": {
  "kernelspec": {
   "display_name": "Python [conda env:base] *",
   "language": "python",
   "name": "conda-base-py"
  },
  "language_info": {
   "codemirror_mode": {
    "name": "ipython",
    "version": 3
   },
   "file_extension": ".py",
   "mimetype": "text/x-python",
   "name": "python",
   "nbconvert_exporter": "python",
   "pygments_lexer": "ipython3",
   "version": "3.13.5"
  }
 },
 "nbformat": 4,
 "nbformat_minor": 5
}
