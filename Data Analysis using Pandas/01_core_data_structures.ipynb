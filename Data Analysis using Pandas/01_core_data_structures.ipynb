{
 "cells": [
  {
   "cell_type": "code",
   "execution_count": 2,
   "id": "158e8e2f-b325-432a-8af6-ca0016921db2",
   "metadata": {},
   "outputs": [],
   "source": [
    "import pandas as pd"
   ]
  },
  {
   "cell_type": "code",
   "execution_count": 4,
   "id": "95d99c5b-6e80-4c23-ad5d-bce65eed748f",
   "metadata": {},
   "outputs": [],
   "source": [
    "s = pd.Series([23, 45, 67,98, 80])"
   ]
  },
  {
   "cell_type": "code",
   "execution_count": 5,
   "id": "30614141-5a90-4757-b62b-da7960b047c4",
   "metadata": {},
   "outputs": [
    {
     "data": {
      "text/plain": [
       "pandas.core.series.Series"
      ]
     },
     "execution_count": 5,
     "metadata": {},
     "output_type": "execute_result"
    }
   ],
   "source": [
    "type(s)"
   ]
  },
  {
   "cell_type": "code",
   "execution_count": 6,
   "id": "c3199f35-26f2-4580-b786-c8b1046d29c3",
   "metadata": {},
   "outputs": [],
   "source": [
    "s2 = pd.Series([23, 45, 67,98, 80], index=[\"Rohan\", \"John\", \"Aman\", \"Akash\", \"Rohit\"])"
   ]
  },
  {
   "cell_type": "code",
   "execution_count": 7,
   "id": "2b15a28e-5d86-40ab-b6dc-5d29f5da5f95",
   "metadata": {},
   "outputs": [
    {
     "data": {
      "text/plain": [
       "Rohan    23\n",
       "John     45\n",
       "Aman     67\n",
       "Akash    98\n",
       "Rohit    80\n",
       "dtype: int64"
      ]
     },
     "execution_count": 7,
     "metadata": {},
     "output_type": "execute_result"
    }
   ],
   "source": [
    "s2"
   ]
  },
  {
   "cell_type": "code",
   "execution_count": 8,
   "id": "a3a9d2b6-b3d7-4830-86cb-9c04b5757736",
   "metadata": {},
   "outputs": [],
   "source": [
    "data = {\n",
    "    \"Name\" : [\"Akash\", \"Nobita\", \"Shinchan\"],\n",
    "    \"Age\" : [20, 10, 5],\n",
    "    \"city\": [\"Jamshedpur\", \"tokyo\", \"osaka\"]\n",
    "}"
   ]
  },
  {
   "cell_type": "code",
   "execution_count": 10,
   "id": "4f771cc4-4025-4312-8c89-51e1ebc00a82",
   "metadata": {},
   "outputs": [],
   "source": [
    "df = pd.DataFrame(data)"
   ]
  },
  {
   "cell_type": "code",
   "execution_count": 11,
   "id": "edd96942-b782-48e2-894d-1624543a3f64",
   "metadata": {},
   "outputs": [
    {
     "data": {
      "text/html": [
       "<div>\n",
       "<style scoped>\n",
       "    .dataframe tbody tr th:only-of-type {\n",
       "        vertical-align: middle;\n",
       "    }\n",
       "\n",
       "    .dataframe tbody tr th {\n",
       "        vertical-align: top;\n",
       "    }\n",
       "\n",
       "    .dataframe thead th {\n",
       "        text-align: right;\n",
       "    }\n",
       "</style>\n",
       "<table border=\"1\" class=\"dataframe\">\n",
       "  <thead>\n",
       "    <tr style=\"text-align: right;\">\n",
       "      <th></th>\n",
       "      <th>Name</th>\n",
       "      <th>Age</th>\n",
       "      <th>city</th>\n",
       "    </tr>\n",
       "  </thead>\n",
       "  <tbody>\n",
       "    <tr>\n",
       "      <th>0</th>\n",
       "      <td>Akash</td>\n",
       "      <td>20</td>\n",
       "      <td>Jamshedpur</td>\n",
       "    </tr>\n",
       "    <tr>\n",
       "      <th>1</th>\n",
       "      <td>Nobita</td>\n",
       "      <td>10</td>\n",
       "      <td>tokyo</td>\n",
       "    </tr>\n",
       "    <tr>\n",
       "      <th>2</th>\n",
       "      <td>Shinchan</td>\n",
       "      <td>5</td>\n",
       "      <td>osaka</td>\n",
       "    </tr>\n",
       "  </tbody>\n",
       "</table>\n",
       "</div>"
      ],
      "text/plain": [
       "       Name  Age        city\n",
       "0     Akash   20  Jamshedpur\n",
       "1    Nobita   10       tokyo\n",
       "2  Shinchan    5       osaka"
      ]
     },
     "execution_count": 11,
     "metadata": {},
     "output_type": "execute_result"
    }
   ],
   "source": [
    "df"
   ]
  },
  {
   "cell_type": "code",
   "execution_count": 12,
   "id": "56ad36a1-3eb4-4833-a0d6-b6ebd6aef92b",
   "metadata": {},
   "outputs": [
    {
     "data": {
      "text/plain": [
       "RangeIndex(start=0, stop=3, step=1)"
      ]
     },
     "execution_count": 12,
     "metadata": {},
     "output_type": "execute_result"
    }
   ],
   "source": [
    "df.index"
   ]
  },
  {
   "cell_type": "code",
   "execution_count": 13,
   "id": "57d38308-0b3f-4614-9bd1-48cde4b12595",
   "metadata": {},
   "outputs": [
    {
     "data": {
      "text/plain": [
       "Index(['Name', 'Age', 'city'], dtype='object')"
      ]
     },
     "execution_count": 13,
     "metadata": {},
     "output_type": "execute_result"
    }
   ],
   "source": [
    "df.columns"
   ]
  },
  {
   "cell_type": "code",
   "execution_count": null,
   "id": "8f1846c0-287a-4463-ad70-c449f2446de8",
   "metadata": {},
   "outputs": [],
   "source": []
  }
 ],
 "metadata": {
  "kernelspec": {
   "display_name": "Python [conda env:base] *",
   "language": "python",
   "name": "conda-base-py"
  },
  "language_info": {
   "codemirror_mode": {
    "name": "ipython",
    "version": 3
   },
   "file_extension": ".py",
   "mimetype": "text/x-python",
   "name": "python",
   "nbconvert_exporter": "python",
   "pygments_lexer": "ipython3",
   "version": "3.13.5"
  }
 },
 "nbformat": 4,
 "nbformat_minor": 5
}
