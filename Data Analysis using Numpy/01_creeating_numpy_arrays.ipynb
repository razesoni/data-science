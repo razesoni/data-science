{
 "cells": [
  {
   "cell_type": "code",
   "execution_count": 2,
   "id": "e10a4738-d32f-4e21-8014-1692b15a4c93",
   "metadata": {},
   "outputs": [],
   "source": [
    "import numpy as np"
   ]
  },
  {
   "cell_type": "code",
   "execution_count": 3,
   "id": "6c056296-5395-44e6-82e5-af313cb66518",
   "metadata": {},
   "outputs": [],
   "source": [
    "arr = np.array([1, 3, 4])"
   ]
  },
  {
   "cell_type": "code",
   "execution_count": 4,
   "id": "520f459b-f23b-417c-af0c-586de0ea54d8",
   "metadata": {},
   "outputs": [
    {
     "data": {
      "text/plain": [
       "array([1, 3, 4])"
      ]
     },
     "execution_count": 4,
     "metadata": {},
     "output_type": "execute_result"
    }
   ],
   "source": [
    "arr"
   ]
  },
  {
   "cell_type": "code",
   "execution_count": 5,
   "id": "3aa81593-7d75-4b73-a8bb-1a7695f86b55",
   "metadata": {},
   "outputs": [
    {
     "data": {
      "text/plain": [
       "array([[0., 0., 0., 0.],\n",
       "       [0., 0., 0., 0.],\n",
       "       [0., 0., 0., 0.]])"
      ]
     },
     "execution_count": 5,
     "metadata": {},
     "output_type": "execute_result"
    }
   ],
   "source": [
    "np.zeros((3, 4))"
   ]
  },
  {
   "cell_type": "code",
   "execution_count": 6,
   "id": "289b9f93-e2e1-48bc-bd05-127a95108c92",
   "metadata": {},
   "outputs": [
    {
     "data": {
      "text/plain": [
       "array([[1., 1., 1., 1., 1.],\n",
       "       [1., 1., 1., 1., 1.],\n",
       "       [1., 1., 1., 1., 1.]])"
      ]
     },
     "execution_count": 6,
     "metadata": {},
     "output_type": "execute_result"
    }
   ],
   "source": [
    "np.ones((3, 5))"
   ]
  },
  {
   "cell_type": "code",
   "execution_count": 7,
   "id": "20af79ae-47c0-4b18-9a3c-385a0d54f341",
   "metadata": {},
   "outputs": [
    {
     "data": {
      "text/plain": [
       "array([[8, 8, 8, 8, 8, 8],\n",
       "       [8, 8, 8, 8, 8, 8],\n",
       "       [8, 8, 8, 8, 8, 8],\n",
       "       [8, 8, 8, 8, 8, 8]])"
      ]
     },
     "execution_count": 7,
     "metadata": {},
     "output_type": "execute_result"
    }
   ],
   "source": [
    "np.full((4, 6), 8)"
   ]
  },
  {
   "cell_type": "code",
   "execution_count": 9,
   "id": "867e93cc-1dd7-43f2-8254-921e8cb51cdf",
   "metadata": {},
   "outputs": [
    {
     "data": {
      "text/plain": [
       "array([[1., 0., 0., 0.],\n",
       "       [0., 1., 0., 0.],\n",
       "       [0., 0., 1., 0.],\n",
       "       [0., 0., 0., 1.]])"
      ]
     },
     "execution_count": 9,
     "metadata": {},
     "output_type": "execute_result"
    }
   ],
   "source": [
    "np.eye(4)"
   ]
  },
  {
   "cell_type": "code",
   "execution_count": 12,
   "id": "8630cb25-9730-4b7e-bbb8-8137938ecf79",
   "metadata": {},
   "outputs": [
    {
     "data": {
      "text/plain": [
       "array([ 1, 10, 19, 28, 37, 46, 55, 64, 73, 82, 91])"
      ]
     },
     "execution_count": 12,
     "metadata": {},
     "output_type": "execute_result"
    }
   ],
   "source": [
    "np.arange(1, 100, 9)"
   ]
  },
  {
   "cell_type": "code",
   "execution_count": 14,
   "id": "26c5c0d6-027b-466e-971e-d8105dfd3af8",
   "metadata": {},
   "outputs": [
    {
     "data": {
      "text/plain": [
       "array([ 1.  ,  3.25,  5.5 ,  7.75, 10.  ])"
      ]
     },
     "execution_count": 14,
     "metadata": {},
     "output_type": "execute_result"
    }
   ],
   "source": [
    "np.linspace(1, 10, 5)"
   ]
  },
  {
   "cell_type": "code",
   "execution_count": 18,
   "id": "59d0a86e-4f3c-4bea-96b8-b4bd66d87220",
   "metadata": {},
   "outputs": [],
   "source": [
    "myarr = np.array([[2, 3, 4], [5, 6, 7], [8, 9, 0]])"
   ]
  },
  {
   "cell_type": "code",
   "execution_count": 19,
   "id": "538c1e37-d09e-4f92-8aa9-121decbd5b53",
   "metadata": {},
   "outputs": [
    {
     "data": {
      "text/plain": [
       "array([[2, 3, 4],\n",
       "       [5, 6, 7],\n",
       "       [8, 9, 0]])"
      ]
     },
     "execution_count": 19,
     "metadata": {},
     "output_type": "execute_result"
    }
   ],
   "source": [
    "myarr"
   ]
  },
  {
   "cell_type": "code",
   "execution_count": 20,
   "id": "262cbb9f-6bbd-4e66-8c2d-e389df4ded24",
   "metadata": {},
   "outputs": [
    {
     "data": {
      "text/plain": [
       "(3, 3)"
      ]
     },
     "execution_count": 20,
     "metadata": {},
     "output_type": "execute_result"
    }
   ],
   "source": [
    "myarr.shape"
   ]
  },
  {
   "cell_type": "code",
   "execution_count": 21,
   "id": "8fd403bf-3c7e-4671-a66e-2a19835e76c4",
   "metadata": {},
   "outputs": [
    {
     "data": {
      "text/plain": [
       "9"
      ]
     },
     "execution_count": 21,
     "metadata": {},
     "output_type": "execute_result"
    }
   ],
   "source": [
    "myarr.size"
   ]
  },
  {
   "cell_type": "code",
   "execution_count": 22,
   "id": "4bab252a-513d-4e5a-a3da-0be566817af5",
   "metadata": {},
   "outputs": [
    {
     "data": {
      "text/plain": [
       "2"
      ]
     },
     "execution_count": 22,
     "metadata": {},
     "output_type": "execute_result"
    }
   ],
   "source": [
    "myarr.ndim"
   ]
  },
  {
   "cell_type": "code",
   "execution_count": 23,
   "id": "a3a9dd14-9280-4497-9ffb-f17f6db5fae5",
   "metadata": {},
   "outputs": [
    {
     "data": {
      "text/plain": [
       "dtype('int64')"
      ]
     },
     "execution_count": 23,
     "metadata": {},
     "output_type": "execute_result"
    }
   ],
   "source": [
    "myarr.dtype"
   ]
  },
  {
   "cell_type": "code",
   "execution_count": 25,
   "id": "51976ef5-5286-4578-94a7-06f09d823c2d",
   "metadata": {},
   "outputs": [],
   "source": [
    "myarr = np.array([[2, 3, 4], [5, 6, 7], [8, 9, 0]], dtype='float32')"
   ]
  },
  {
   "cell_type": "code",
   "execution_count": 26,
   "id": "4c8b0064-4cd6-430a-a06d-228b41e498c8",
   "metadata": {},
   "outputs": [
    {
     "data": {
      "text/plain": [
       "array([[2., 3., 4.],\n",
       "       [5., 6., 7.],\n",
       "       [8., 9., 0.]], dtype=float32)"
      ]
     },
     "execution_count": 26,
     "metadata": {},
     "output_type": "execute_result"
    }
   ],
   "source": [
    "myarr"
   ]
  },
  {
   "cell_type": "code",
   "execution_count": 27,
   "id": "bf352449-02c5-40ce-ad20-916dcb96070a",
   "metadata": {},
   "outputs": [
    {
     "data": {
      "text/plain": [
       "array([[2, 3, 4],\n",
       "       [5, 6, 7],\n",
       "       [8, 9, 0]], dtype=int32)"
      ]
     },
     "execution_count": 27,
     "metadata": {},
     "output_type": "execute_result"
    }
   ],
   "source": [
    "myarr.astype('int32')"
   ]
  },
  {
   "cell_type": "code",
   "execution_count": 28,
   "id": "160c5f22-8355-484a-aa89-710662480420",
   "metadata": {},
   "outputs": [],
   "source": [
    "myarr = np.array([[2, 3, 4], [5, 6, 7], [8, 9, 0], [1, 1, 1]])"
   ]
  },
  {
   "cell_type": "code",
   "execution_count": 29,
   "id": "1ccabe21-1675-43aa-a2d7-5a9c147cc37c",
   "metadata": {},
   "outputs": [],
   "source": [
    "reshape = myarr.reshape((3, 4))"
   ]
  },
  {
   "cell_type": "code",
   "execution_count": 30,
   "id": "28449a44-24ac-4bd9-831f-b9c5b1f2dca2",
   "metadata": {},
   "outputs": [
    {
     "data": {
      "text/plain": [
       "array([[2, 3, 4, 5],\n",
       "       [6, 7, 8, 9],\n",
       "       [0, 1, 1, 1]])"
      ]
     },
     "execution_count": 30,
     "metadata": {},
     "output_type": "execute_result"
    }
   ],
   "source": [
    "reshape"
   ]
  },
  {
   "cell_type": "code",
   "execution_count": 32,
   "id": "434c4e23-4d4a-4594-b9db-78ee0b69fe6a",
   "metadata": {},
   "outputs": [
    {
     "data": {
      "text/plain": [
       "array([2, 3, 4, 5, 6, 7, 8, 9, 0, 1, 1, 1])"
      ]
     },
     "execution_count": 32,
     "metadata": {},
     "output_type": "execute_result"
    }
   ],
   "source": [
    "myarr.flatten()"
   ]
  }
 ],
 "metadata": {
  "kernelspec": {
   "display_name": "Python [conda env:base] *",
   "language": "python",
   "name": "conda-base-py"
  },
  "language_info": {
   "codemirror_mode": {
    "name": "ipython",
    "version": 3
   },
   "file_extension": ".py",
   "mimetype": "text/x-python",
   "name": "python",
   "nbconvert_exporter": "python",
   "pygments_lexer": "ipython3",
   "version": "3.13.5"
  }
 },
 "nbformat": 4,
 "nbformat_minor": 5
}
