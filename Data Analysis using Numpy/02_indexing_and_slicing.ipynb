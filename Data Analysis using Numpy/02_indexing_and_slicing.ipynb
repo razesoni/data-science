{
 "cells": [
  {
   "cell_type": "code",
   "execution_count": 1,
   "id": "f9f0421a-44b1-4ce9-a389-958e1fb00776",
   "metadata": {},
   "outputs": [],
   "source": [
    "import numpy as np"
   ]
  },
  {
   "cell_type": "code",
   "execution_count": 3,
   "id": "3257fc9b-9e30-4b2d-8192-40a88ecc3a38",
   "metadata": {},
   "outputs": [],
   "source": [
    "arr = np.array([[2, 3, 4], [5, 6, 7], [8, 9, 0], [1, 1, 1]])"
   ]
  },
  {
   "cell_type": "code",
   "execution_count": 4,
   "id": "73e3f34d-2170-44f2-9776-872c290fa422",
   "metadata": {},
   "outputs": [
    {
     "data": {
      "text/plain": [
       "array([[2, 3, 4],\n",
       "       [5, 6, 7],\n",
       "       [8, 9, 0],\n",
       "       [1, 1, 1]])"
      ]
     },
     "execution_count": 4,
     "metadata": {},
     "output_type": "execute_result"
    }
   ],
   "source": [
    "arr"
   ]
  },
  {
   "cell_type": "code",
   "execution_count": 5,
   "id": "8ec70bc4-2f64-466b-998c-d22105ac0c77",
   "metadata": {},
   "outputs": [],
   "source": [
    "flat = arr.flatten()"
   ]
  },
  {
   "cell_type": "code",
   "execution_count": 6,
   "id": "9b410b95-f01b-48a0-9f60-a418b9a8307e",
   "metadata": {},
   "outputs": [
    {
     "data": {
      "text/plain": [
       "np.int64(2)"
      ]
     },
     "execution_count": 6,
     "metadata": {},
     "output_type": "execute_result"
    }
   ],
   "source": [
    "flat[0]"
   ]
  },
  {
   "cell_type": "code",
   "execution_count": 7,
   "id": "b2b3b894-79ac-49bd-83df-fb1180798cd3",
   "metadata": {},
   "outputs": [
    {
     "data": {
      "text/plain": [
       "array([5, 6, 7])"
      ]
     },
     "execution_count": 7,
     "metadata": {},
     "output_type": "execute_result"
    }
   ],
   "source": [
    "flat[3:6]"
   ]
  },
  {
   "cell_type": "code",
   "execution_count": 8,
   "id": "3789cbb5-29ff-4710-b179-71c211eb3fe0",
   "metadata": {},
   "outputs": [
    {
     "data": {
      "text/plain": [
       "array([2, 3, 4, 5, 6])"
      ]
     },
     "execution_count": 8,
     "metadata": {},
     "output_type": "execute_result"
    }
   ],
   "source": [
    "flat[:5]"
   ]
  },
  {
   "cell_type": "code",
   "execution_count": 9,
   "id": "4b5f953c-1423-4391-bbf5-df71c8c25c56",
   "metadata": {},
   "outputs": [
    {
     "data": {
      "text/plain": [
       "array([8, 9, 0, 1, 1, 1])"
      ]
     },
     "execution_count": 9,
     "metadata": {},
     "output_type": "execute_result"
    }
   ],
   "source": [
    "flat[6:]"
   ]
  },
  {
   "cell_type": "code",
   "execution_count": 10,
   "id": "e07b6e9b-c375-417e-8c09-00b9aad8648c",
   "metadata": {},
   "outputs": [
    {
     "data": {
      "text/plain": [
       "array([2, 5, 8, 1])"
      ]
     },
     "execution_count": 10,
     "metadata": {},
     "output_type": "execute_result"
    }
   ],
   "source": [
    "flat[::3]"
   ]
  },
  {
   "cell_type": "code",
   "execution_count": 11,
   "id": "fe9a4177-cd09-4cff-9aab-6afd2f248099",
   "metadata": {},
   "outputs": [
    {
     "data": {
      "text/plain": [
       "array([2, 3, 4, 5, 6, 7, 8, 9, 0, 1, 1, 1])"
      ]
     },
     "execution_count": 11,
     "metadata": {},
     "output_type": "execute_result"
    }
   ],
   "source": [
    "flat"
   ]
  },
  {
   "cell_type": "code",
   "execution_count": 12,
   "id": "42ef3f29-0e09-43a0-b136-07749f67ffe3",
   "metadata": {},
   "outputs": [],
   "source": [
    "b = flat[3:6]"
   ]
  },
  {
   "cell_type": "code",
   "execution_count": 13,
   "id": "c796a81d-cbde-4240-af13-afa73f02f5fa",
   "metadata": {},
   "outputs": [
    {
     "data": {
      "text/plain": [
       "array([5, 6, 7])"
      ]
     },
     "execution_count": 13,
     "metadata": {},
     "output_type": "execute_result"
    }
   ],
   "source": [
    "b"
   ]
  },
  {
   "cell_type": "code",
   "execution_count": 14,
   "id": "47a2cf2f-b7ca-4e8d-939e-c130cefa4b8a",
   "metadata": {},
   "outputs": [],
   "source": [
    "b[0] = 3444"
   ]
  },
  {
   "cell_type": "code",
   "execution_count": 15,
   "id": "eeb6bcdf-1f25-481c-8e2a-012ab80d607e",
   "metadata": {},
   "outputs": [
    {
     "data": {
      "text/plain": [
       "array([   2,    3,    4, 3444,    6,    7,    8,    9,    0,    1,    1,\n",
       "          1])"
      ]
     },
     "execution_count": 15,
     "metadata": {},
     "output_type": "execute_result"
    }
   ],
   "source": [
    "flat"
   ]
  },
  {
   "cell_type": "code",
   "execution_count": 16,
   "id": "bdff97b2-3c11-4e86-bfa4-660b36e44a06",
   "metadata": {},
   "outputs": [],
   "source": [
    "b = flat[3:6].copy"
   ]
  },
  {
   "cell_type": "code",
   "execution_count": 18,
   "id": "79938235-c101-4a6e-a780-139c3693c254",
   "metadata": {},
   "outputs": [
    {
     "data": {
      "text/plain": [
       "array([3, 6, 8])"
      ]
     },
     "execution_count": 18,
     "metadata": {},
     "output_type": "execute_result"
    }
   ],
   "source": [
    "flat[[1, 4, 6]]"
   ]
  },
  {
   "cell_type": "code",
   "execution_count": 19,
   "id": "c32f3cea-b7ef-4fb4-a1f7-b201a67eb63a",
   "metadata": {},
   "outputs": [
    {
     "data": {
      "text/plain": [
       "array([3444])"
      ]
     },
     "execution_count": 19,
     "metadata": {},
     "output_type": "execute_result"
    }
   ],
   "source": [
    "flat[flat>40]"
   ]
  },
  {
   "cell_type": "code",
   "execution_count": null,
   "id": "2c7c489e-804b-49e8-bfe3-920a716a6ee1",
   "metadata": {},
   "outputs": [],
   "source": []
  }
 ],
 "metadata": {
  "kernelspec": {
   "display_name": "Python [conda env:base] *",
   "language": "python",
   "name": "conda-base-py"
  },
  "language_info": {
   "codemirror_mode": {
    "name": "ipython",
    "version": 3
   },
   "file_extension": ".py",
   "mimetype": "text/x-python",
   "name": "python",
   "nbconvert_exporter": "python",
   "pygments_lexer": "ipython3",
   "version": "3.13.5"
  }
 },
 "nbformat": 4,
 "nbformat_minor": 5
}
